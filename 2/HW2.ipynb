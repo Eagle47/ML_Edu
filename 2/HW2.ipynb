{
 "cells": [
  {
   "cell_type": "code",
   "execution_count": 386,
   "id": "2fd56d3c",
   "metadata": {},
   "outputs": [],
   "source": [
    "import numpy as np\n",
    "import matplotlib.pyplot as plt\n",
    "from scipy.optimize import minimize, differential_evolution"
   ]
  },
  {
   "cell_type": "markdown",
   "id": "562ce7b3",
   "metadata": {},
   "source": [
    "## Task 1"
   ]
  },
  {
   "cell_type": "code",
   "execution_count": 387,
   "id": "26b1d8bf",
   "metadata": {},
   "outputs": [],
   "source": [
    "def f(x):\n",
    "    return np.sin(x / 5) * np.exp(x / 10) + 5 * np.exp(-x / 2)"
   ]
  },
  {
   "cell_type": "code",
   "execution_count": 388,
   "id": "5d1ab6cd",
   "metadata": {},
   "outputs": [],
   "source": [
    "xs = np.arange(1, 30, step=0.5, dtype=float)"
   ]
  },
  {
   "cell_type": "code",
   "execution_count": 389,
   "id": "d09ad9ff",
   "metadata": {},
   "outputs": [
    {
     "data": {
      "image/png": "[encoded data removed]",
      "text/plain": [
       "<Figure size 432x288 with 1 Axes>"
      ]
     },
     "metadata": {
      "needs_background": "light"
     },
     "output_type": "display_data"
    }
   ],
   "source": [
    "plt.plot(xs, f(xs), label = \"f(x)\")\n",
    "plt.xlabel(\"x\")\n",
    "plt.ylabel(\"y\")\n",
    "plt.legend()\n",
    "plt.show()"
   ]
  },
  {
   "cell_type": "code",
   "execution_count": 390,
   "id": "b91f9ecd",
   "metadata": {},
   "outputs": [
    {
     "name": "stdout",
     "output_type": "stream",
     "text": [
      "x = 1.0 f_min = 1.7452682903321932\n",
      "x = 2.0 f_min = 1.745268290344928\n",
      "x = 3.0 f_min = 1.74526829058583\n",
      "x = 4.0 f_min = 1.7452682904152543\n",
      "x = 5.0 f_min = 1.745268290331985\n",
      "x = 6.0 f_min = 1.7452682903321235\n",
      "x = 7.0 f_min = 1.7452682903320123\n",
      "x = 8.0 f_min = 1.7452682903319725\n",
      "x = 9.0 f_min = 1.7452682903473087\n",
      "x = 10.0 f_min = 1.7452682903427892\n",
      "x = 11.0 f_min = -11.898894665981311\n",
      "x = 12.0 f_min = -11.898894665981146\n",
      "x = 13.0 f_min = -6371.76522916574\n",
      "x = 14.0 f_min = -11.898894665981322\n",
      "x = 15.0 f_min = -11.503580741169603\n",
      "x = 16.0 f_min = -11.898894665971543\n",
      "x = 17.0 f_min = -11.89889466590295\n",
      "x = 18.0 f_min = -11.8988946659724\n",
      "x = 19.0 f_min = -11.898894665898753\n",
      "x = 20.0 f_min = -11.898894665971952\n",
      "x = 21.0 f_min = -11.89889466592927\n",
      "x = 22.0 f_min = -11.898894665980709\n",
      "x = 23.0 f_min = -11.89889466598128\n",
      "x = 24.0 f_min = -11.898894665979714\n",
      "x = 25.0 f_min = -11.89889466596626\n",
      "x = 26.0 f_min = -11.898894665979313\n",
      "x = 27.0 f_min = -11.898894665974735\n",
      "x = 28.0 f_min = -11.898894665981295\n",
      "x = 29.0 f_min = -11.898894665941112\n"
     ]
    }
   ],
   "source": [
    "for i in xs[::2]:\n",
    "    print(\"x =\", i, \"f_min =\", opt.minimize(f, i).fun)"
   ]
  },
  {
   "cell_type": "code",
   "execution_count": 391,
   "id": "39544d50",
   "metadata": {},
   "outputs": [
    {
     "name": "stdout",
     "output_type": "stream",
     "text": [
      "x = 2  f_min = 1.745268290344928\n",
      "x = 30 f_min = -11.898894665981322\n"
     ]
    }
   ],
   "source": [
    "bfgs1 = opt.minimize(f, 2, method='BFGS')\n",
    "print(\"x = 2  f_min =\", bfgs1.fun)\n",
    "\n",
    "bfgs2 = opt.minimize(f, 30, method='BFGS')\n",
    "print(\"x = 30 f_min =\", bfgs2.fun)\n",
    "\n",
    "with open('task1.txt', 'w') as f1:\n",
    "    f1.write(str(round(bfgs1.fun, 2)) + ' ' + str(round(bfgs2.fun, 2)))"
   ]
  },
  {
   "cell_type": "markdown",
   "id": "717e4206",
   "metadata": {},
   "source": [
    "## Task 2"
   ]
  },
  {
   "cell_type": "code",
   "execution_count": 392,
   "id": "19751d48",
   "metadata": {},
   "outputs": [
    {
     "name": "stdout",
     "output_type": "stream",
     "text": [
      "-11.898894665981292\n"
     ]
    }
   ],
   "source": [
    "result_f = differential_evolution(func=f, bounds=[(1, 30)])\n",
    "print(result_f.fun[0])\n",
    "\n",
    "with open('task2.txt', 'w') as f2:\n",
    "    f2.write(str(round(result_f.fun[0], 2)))"
   ]
  },
  {
   "cell_type": "code",
   "execution_count": 393,
   "id": "8ef901a7",
   "metadata": {},
   "outputs": [
    {
     "name": "stdout",
     "output_type": "stream",
     "text": [
      "bfgs from x = 30 nit = 6\n",
      "dif_evaluation   nit = 6\n"
     ]
    }
   ],
   "source": [
    "print(\"bfgs from x = 30 nit =\", bfgs2.nit)\n",
    "print(\"dif_evaluation   nit =\", result_f.nit)"
   ]
  },
  {
   "cell_type": "code",
   "execution_count": 394,
   "id": "31c55124",
   "metadata": {},
   "outputs": [
    {
     "name": "stdout",
     "output_type": "stream",
     "text": [
      "bfgs from x = 30 nfev = 14\n",
      "dif_evaluation   nfev = 113\n"
     ]
    }
   ],
   "source": [
    "print(\"bfgs from x = 30 nfev =\", bfgs2.nfev)\n",
    "print(\"dif_evaluation   nfev =\", result_f.nfev)"
   ]
  },
  {
   "cell_type": "markdown",
   "id": "90a109a9",
   "metadata": {},
   "source": [
    "## Task 3"
   ]
  },
  {
   "cell_type": "code",
   "execution_count": 395,
   "id": "3ff963f7",
   "metadata": {},
   "outputs": [],
   "source": [
    "def h(x):\n",
    "    return int(f(x))"
   ]
  },
  {
   "cell_type": "code",
   "execution_count": 396,
   "id": "5a91e124",
   "metadata": {},
   "outputs": [
    {
     "data": {
      "image/png": "[encoded data removed]",
      "text/plain": [
       "<Figure size 432x288 with 1 Axes>"
      ]
     },
     "metadata": {
      "needs_background": "light"
     },
     "output_type": "display_data"
    }
   ],
   "source": [
    "hs = []\n",
    "for x in xs:\n",
    "    hs.append(h(x))\n",
    "    \n",
    "plt.plot(xs, hs, label = \"h(x)\")\n",
    "plt.xlabel(\"x\")\n",
    "plt.ylabel(\"y\")\n",
    "plt.legend()\n",
    "plt.show()"
   ]
  },
  {
   "cell_type": "code",
   "execution_count": 405,
   "id": "86bcd323",
   "metadata": {},
   "outputs": [
    {
     "name": "stdout",
     "output_type": "stream",
     "text": [
      "x = 30 h_min = -5\n"
     ]
    }
   ],
   "source": [
    "bfgs3 = opt.minimize(h, 30, method='BFGS')\n",
    "print(\"x = 30 h_min =\", bfgs3.fun)"
   ]
  },
  {
   "cell_type": "code",
   "execution_count": 407,
   "id": "8057ef1d",
   "metadata": {},
   "outputs": [
    {
     "name": "stdout",
     "output_type": "stream",
     "text": [
      "0\n"
     ]
    }
   ],
   "source": [
    "print(bfgs3.nit)"
   ]
  },
  {
   "cell_type": "code",
   "execution_count": 399,
   "id": "3e4219de",
   "metadata": {},
   "outputs": [
    {
     "name": "stdout",
     "output_type": "stream",
     "text": [
      "-11.0\n"
     ]
    }
   ],
   "source": [
    "result_h = differential_evolution(func=h, bounds=[(1, 30)])\n",
    "print(result_h.fun)"
   ]
  },
  {
   "cell_type": "code",
   "execution_count": 400,
   "id": "4f70324f",
   "metadata": {},
   "outputs": [],
   "source": [
    "with open('task3.txt', 'w') as f3:\n",
    "    f3.write(str(round(bfgs3.fun, 2)) + ' ' + str(round(result_h.fun, 2)))"
   ]
  }
 ],
 "metadata": {
  "kernelspec": {
   "display_name": "Python 3 (ipykernel)",
   "language": "python",
   "name": "python3"
  },
  "language_info": {
   "codemirror_mode": {
    "name": "ipython",
    "version": 3
   },
   "file_extension": ".py",
   "mimetype": "text/x-python",
   "name": "python",
   "nbconvert_exporter": "python",
   "pygments_lexer": "ipython3",
   "version": "3.9.7"
  }
 },
 "nbformat": 4,
 "nbformat_minor": 5
}
