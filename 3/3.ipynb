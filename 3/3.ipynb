{
 "cells": [
  {
   "cell_type": "code",
   "execution_count": 273,
   "id": "95842358",
   "metadata": {},
   "outputs": [],
   "source": [
    "import re\n",
    "import numpy as np\n",
    "from scipy.spatial import distance"
   ]
  },
  {
   "cell_type": "code",
   "execution_count": 274,
   "id": "83b4c82f",
   "metadata": {},
   "outputs": [],
   "source": [
    "f = open('sentences.txt', 'r')\n",
    "\n",
    "sentences = []\n",
    "for line in f:\n",
    "    sentences.append(line.lower())"
   ]
  },
  {
   "cell_type": "code",
   "execution_count": 275,
   "id": "bf109457",
   "metadata": {},
   "outputs": [],
   "source": [
    "words = {}\n",
    "for s in sentences:\n",
    "    sentence_split = re.split(r'[^a-z]', s)\n",
    "    while '' in sentence_split: sentence_split.remove('')\n",
    "        \n",
    "    for word in sentence_split:\n",
    "        if word in words:\n",
    "            words[word] += 1\n",
    "        else:\n",
    "            words[word] = 1"
   ]
  },
  {
   "cell_type": "code",
   "execution_count": 276,
   "id": "7dc6c36e",
   "metadata": {},
   "outputs": [
    {
     "name": "stdout",
     "output_type": "stream",
     "text": [
      "22\n",
      "254\n"
     ]
    }
   ],
   "source": [
    "print(len(sentences))\n",
    "print(len(words))"
   ]
  },
  {
   "cell_type": "code",
   "execution_count": 277,
   "id": "73641870",
   "metadata": {},
   "outputs": [],
   "source": [
    "words_sorted = list(words.keys())\n",
    "words_sorted.sort()"
   ]
  },
  {
   "cell_type": "code",
   "execution_count": 278,
   "id": "d4c9cbb4",
   "metadata": {},
   "outputs": [],
   "source": [
    "matrix = []\n",
    "for s in sentences:\n",
    "    line = np.zeros(254)\n",
    "    i = 0\n",
    "    for word in words_sorted:\n",
    "        sentence_split = re.split(r'[^a-z]', s)\n",
    "        while word in sentence_split:\n",
    "            line[i] += 1\n",
    "            sentence_split.remove(word)\n",
    "        i += 1\n",
    "    matrix.append(line)"
   ]
  },
  {
   "cell_type": "code",
   "execution_count": 279,
   "id": "8874bb86",
   "metadata": {},
   "outputs": [],
   "source": [
    "cosines = []\n",
    "i = 1\n",
    "for line in matrix:\n",
    "    cosines.append((i, distance.cosine(matrix[0], line)))\n",
    "    i += 1"
   ]
  },
  {
   "cell_type": "code",
   "execution_count": 280,
   "id": "938866ca",
   "metadata": {},
   "outputs": [],
   "source": [
    "cosines.sort(key=lambda tup: tup[1])"
   ]
  },
  {
   "cell_type": "code",
   "execution_count": 283,
   "id": "b7ed3515",
   "metadata": {},
   "outputs": [],
   "source": [
    "with open('task1.txt', 'w') as f:\n",
    "    f.write(str(cosines[1][0]) + ' ' + str(cosines[2][0]))"
   ]
  },
  {
   "cell_type": "code",
   "execution_count": 284,
   "id": "53d99234",
   "metadata": {},
   "outputs": [
    {
     "name": "stdout",
     "output_type": "stream",
     "text": [
      "Исходное предложение звучит так:\n",
      " in comparison to dogs, cats have not undergone major changes during the domestication process.\n",
      "\n",
      "Самое похожее предложение имеет номер 7 и звучит так:\n",
      " however, if the output is piped or redirected, cat is unnecessary.\n",
      " Его тематика НЕ совпадает с исходной\n",
      "\n",
      "Следующее за ним имеет номер 5 и звучит так:\n",
      " the domesticated cat and its closest wild ancestor are both diploid organisms that possess 38 chromosomes and roughly 20,000 genes.\n",
      " Его тематика совпадает с исходной\n"
     ]
    }
   ],
   "source": [
    "print(\"Исходное предложение звучит так:\\n\", sentences[0])\n",
    "print(\"Самое похожее предложение имеет номер\", cosines[1][0], \"и звучит так:\\n\", sentences[cosines[1][0]], \"Его тематика НЕ совпадает с исходной\\n\")\n",
    "print(\"Следующее за ним имеет номер\", cosines[2][0], \"и звучит так:\\n\", sentences[cosines[2][0]], \"Его тематика совпадает с исходной\")"
   ]
  },
  {
   "cell_type": "code",
   "execution_count": null,
   "id": "50fa0394",
   "metadata": {},
   "outputs": [],
   "source": []
  }
 ],
 "metadata": {
  "kernelspec": {
   "display_name": "Python 3 (ipykernel)",
   "language": "python",
   "name": "python3"
  },
  "language_info": {
   "codemirror_mode": {
    "name": "ipython",
    "version": 3
   },
   "file_extension": ".py",
   "mimetype": "text/x-python",
   "name": "python",
   "nbconvert_exporter": "python",
   "pygments_lexer": "ipython3",
   "version": "3.9.7"
  }
 },
 "nbformat": 4,
 "nbformat_minor": 5
}
